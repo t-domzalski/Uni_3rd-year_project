{
 "cells": [
  {
   "cell_type": "code",
   "execution_count": 1,
   "metadata": {},
   "outputs": [],
   "source": [
    "import numpy as np\n",
    "import pandas as pd\n",
    "import pingouin as pg\n",
    "import seaborn as sns\n",
    "import matplotlib.pyplot as plt"
   ]
  },
  {
   "cell_type": "code",
   "execution_count": 2,
   "metadata": {},
   "outputs": [],
   "source": [
    "df = pd.read_csv('features_do_obrobki22.csv')"
   ]
  },
  {
   "cell_type": "code",
   "execution_count": 3,
   "metadata": {
    "scrolled": true
   },
   "outputs": [
    {
     "data": {
      "text/html": [
       "<div>\n",
       "<style scoped>\n",
       "    .dataframe tbody tr th:only-of-type {\n",
       "        vertical-align: middle;\n",
       "    }\n",
       "\n",
       "    .dataframe tbody tr th {\n",
       "        vertical-align: top;\n",
       "    }\n",
       "\n",
       "    .dataframe thead th {\n",
       "        text-align: right;\n",
       "    }\n",
       "</style>\n",
       "<table border=\"1\" class=\"dataframe\">\n",
       "  <thead>\n",
       "    <tr style=\"text-align: right;\">\n",
       "      <th></th>\n",
       "      <th>rms_mean</th>\n",
       "      <th>rms_std</th>\n",
       "      <th>rms_max</th>\n",
       "      <th>rms_min</th>\n",
       "      <th>localJitter</th>\n",
       "      <th>localabsoluteJitter</th>\n",
       "      <th>rapJitter</th>\n",
       "      <th>ppq5Jitter</th>\n",
       "      <th>ddpJitter</th>\n",
       "      <th>localShimmer</th>\n",
       "      <th>localdbShimmer</th>\n",
       "      <th>apq3Shimmer</th>\n",
       "      <th>apq5Shimmer</th>\n",
       "      <th>apq11Shimmer</th>\n",
       "      <th>f0_mean</th>\n",
       "      <th>f0_std</th>\n",
       "      <th>hnr</th>\n",
       "      <th>filename</th>\n",
       "      <th>subject</th>\n",
       "      <th>condition</th>\n",
       "    </tr>\n",
       "  </thead>\n",
       "  <tbody>\n",
       "    <tr>\n",
       "      <th>0</th>\n",
       "      <td>0.017931</td>\n",
       "      <td>0.019250</td>\n",
       "      <td>0.111144</td>\n",
       "      <td>0.000203</td>\n",
       "      <td>0.011060</td>\n",
       "      <td>0.000064</td>\n",
       "      <td>0.003465</td>\n",
       "      <td>0.005857</td>\n",
       "      <td>0.010395</td>\n",
       "      <td>0.099222</td>\n",
       "      <td>0.787973</td>\n",
       "      <td>0.037504</td>\n",
       "      <td>0.067317</td>\n",
       "      <td>0.172779</td>\n",
       "      <td>176.649887</td>\n",
       "      <td>22.951265</td>\n",
       "      <td>11.798376</td>\n",
       "      <td>audio/2_pos.wav</td>\n",
       "      <td>2</td>\n",
       "      <td>pos</td>\n",
       "    </tr>\n",
       "    <tr>\n",
       "      <th>1</th>\n",
       "      <td>0.024871</td>\n",
       "      <td>0.032905</td>\n",
       "      <td>0.168227</td>\n",
       "      <td>0.000037</td>\n",
       "      <td>0.014610</td>\n",
       "      <td>0.000074</td>\n",
       "      <td>0.004114</td>\n",
       "      <td>0.007507</td>\n",
       "      <td>0.012341</td>\n",
       "      <td>0.101817</td>\n",
       "      <td>0.754952</td>\n",
       "      <td>0.041237</td>\n",
       "      <td>0.071470</td>\n",
       "      <td>0.146125</td>\n",
       "      <td>201.147730</td>\n",
       "      <td>25.017070</td>\n",
       "      <td>11.505237</td>\n",
       "      <td>audio/14_neg.wav</td>\n",
       "      <td>14</td>\n",
       "      <td>neg</td>\n",
       "    </tr>\n",
       "    <tr>\n",
       "      <th>2</th>\n",
       "      <td>0.038053</td>\n",
       "      <td>0.038166</td>\n",
       "      <td>0.169753</td>\n",
       "      <td>0.000274</td>\n",
       "      <td>0.011936</td>\n",
       "      <td>0.000053</td>\n",
       "      <td>0.002706</td>\n",
       "      <td>0.005138</td>\n",
       "      <td>0.008119</td>\n",
       "      <td>0.106943</td>\n",
       "      <td>0.638403</td>\n",
       "      <td>0.038309</td>\n",
       "      <td>0.066730</td>\n",
       "      <td>0.140863</td>\n",
       "      <td>227.516987</td>\n",
       "      <td>23.271600</td>\n",
       "      <td>14.403130</td>\n",
       "      <td>audio/19_neg.wav</td>\n",
       "      <td>19</td>\n",
       "      <td>neg</td>\n",
       "    </tr>\n",
       "    <tr>\n",
       "      <th>3</th>\n",
       "      <td>0.018055</td>\n",
       "      <td>0.025417</td>\n",
       "      <td>0.169625</td>\n",
       "      <td>0.000212</td>\n",
       "      <td>0.013949</td>\n",
       "      <td>0.000079</td>\n",
       "      <td>0.003135</td>\n",
       "      <td>0.005664</td>\n",
       "      <td>0.009404</td>\n",
       "      <td>0.155064</td>\n",
       "      <td>0.852074</td>\n",
       "      <td>0.064805</td>\n",
       "      <td>0.111448</td>\n",
       "      <td>0.226401</td>\n",
       "      <td>182.849631</td>\n",
       "      <td>31.212020</td>\n",
       "      <td>10.530582</td>\n",
       "      <td>audio/18_neut.wav</td>\n",
       "      <td>18</td>\n",
       "      <td>neut</td>\n",
       "    </tr>\n",
       "    <tr>\n",
       "      <th>4</th>\n",
       "      <td>0.086125</td>\n",
       "      <td>0.077493</td>\n",
       "      <td>0.266395</td>\n",
       "      <td>0.000146</td>\n",
       "      <td>0.007797</td>\n",
       "      <td>0.000042</td>\n",
       "      <td>0.002580</td>\n",
       "      <td>0.004057</td>\n",
       "      <td>0.007741</td>\n",
       "      <td>0.077477</td>\n",
       "      <td>0.673770</td>\n",
       "      <td>0.029258</td>\n",
       "      <td>0.053634</td>\n",
       "      <td>0.117042</td>\n",
       "      <td>190.461634</td>\n",
       "      <td>23.039585</td>\n",
       "      <td>13.209085</td>\n",
       "      <td>audio/7_neg.wav</td>\n",
       "      <td>7</td>\n",
       "      <td>neg</td>\n",
       "    </tr>\n",
       "    <tr>\n",
       "      <th>...</th>\n",
       "      <td>...</td>\n",
       "      <td>...</td>\n",
       "      <td>...</td>\n",
       "      <td>...</td>\n",
       "      <td>...</td>\n",
       "      <td>...</td>\n",
       "      <td>...</td>\n",
       "      <td>...</td>\n",
       "      <td>...</td>\n",
       "      <td>...</td>\n",
       "      <td>...</td>\n",
       "      <td>...</td>\n",
       "      <td>...</td>\n",
       "      <td>...</td>\n",
       "      <td>...</td>\n",
       "      <td>...</td>\n",
       "      <td>...</td>\n",
       "      <td>...</td>\n",
       "      <td>...</td>\n",
       "      <td>...</td>\n",
       "    </tr>\n",
       "    <tr>\n",
       "      <th>64</th>\n",
       "      <td>0.093767</td>\n",
       "      <td>0.101875</td>\n",
       "      <td>0.450404</td>\n",
       "      <td>0.000025</td>\n",
       "      <td>0.012394</td>\n",
       "      <td>0.000059</td>\n",
       "      <td>0.003351</td>\n",
       "      <td>0.005559</td>\n",
       "      <td>0.010053</td>\n",
       "      <td>0.105439</td>\n",
       "      <td>0.777676</td>\n",
       "      <td>0.034824</td>\n",
       "      <td>0.063856</td>\n",
       "      <td>0.151712</td>\n",
       "      <td>211.911909</td>\n",
       "      <td>20.094876</td>\n",
       "      <td>12.022375</td>\n",
       "      <td>audio/3_neut.wav</td>\n",
       "      <td>3</td>\n",
       "      <td>neut</td>\n",
       "    </tr>\n",
       "    <tr>\n",
       "      <th>65</th>\n",
       "      <td>0.025872</td>\n",
       "      <td>0.035865</td>\n",
       "      <td>0.222988</td>\n",
       "      <td>0.000027</td>\n",
       "      <td>0.014455</td>\n",
       "      <td>0.000072</td>\n",
       "      <td>0.004110</td>\n",
       "      <td>0.007466</td>\n",
       "      <td>0.012329</td>\n",
       "      <td>0.108382</td>\n",
       "      <td>0.768684</td>\n",
       "      <td>0.040372</td>\n",
       "      <td>0.070444</td>\n",
       "      <td>0.150119</td>\n",
       "      <td>204.992579</td>\n",
       "      <td>27.863604</td>\n",
       "      <td>11.687023</td>\n",
       "      <td>audio/14_pos.wav</td>\n",
       "      <td>14</td>\n",
       "      <td>pos</td>\n",
       "    </tr>\n",
       "    <tr>\n",
       "      <th>66</th>\n",
       "      <td>0.007521</td>\n",
       "      <td>0.009095</td>\n",
       "      <td>0.048909</td>\n",
       "      <td>0.000004</td>\n",
       "      <td>0.007714</td>\n",
       "      <td>0.000041</td>\n",
       "      <td>0.002184</td>\n",
       "      <td>0.003707</td>\n",
       "      <td>0.006551</td>\n",
       "      <td>0.110255</td>\n",
       "      <td>0.645221</td>\n",
       "      <td>0.043651</td>\n",
       "      <td>0.066091</td>\n",
       "      <td>0.106690</td>\n",
       "      <td>192.226669</td>\n",
       "      <td>22.582565</td>\n",
       "      <td>10.004964</td>\n",
       "      <td>audio/8_neut.wav</td>\n",
       "      <td>8</td>\n",
       "      <td>neut</td>\n",
       "    </tr>\n",
       "    <tr>\n",
       "      <th>67</th>\n",
       "      <td>0.022345</td>\n",
       "      <td>0.031470</td>\n",
       "      <td>0.201110</td>\n",
       "      <td>0.000220</td>\n",
       "      <td>0.014559</td>\n",
       "      <td>0.000080</td>\n",
       "      <td>0.003561</td>\n",
       "      <td>0.006202</td>\n",
       "      <td>0.010683</td>\n",
       "      <td>0.162524</td>\n",
       "      <td>0.815833</td>\n",
       "      <td>0.059204</td>\n",
       "      <td>0.109509</td>\n",
       "      <td>0.232931</td>\n",
       "      <td>187.722206</td>\n",
       "      <td>32.186628</td>\n",
       "      <td>10.857767</td>\n",
       "      <td>audio/18_neg.wav</td>\n",
       "      <td>18</td>\n",
       "      <td>neg</td>\n",
       "    </tr>\n",
       "    <tr>\n",
       "      <th>68</th>\n",
       "      <td>0.130385</td>\n",
       "      <td>0.141813</td>\n",
       "      <td>0.460333</td>\n",
       "      <td>0.000255</td>\n",
       "      <td>0.008761</td>\n",
       "      <td>0.000045</td>\n",
       "      <td>0.002545</td>\n",
       "      <td>0.004428</td>\n",
       "      <td>0.007635</td>\n",
       "      <td>0.064571</td>\n",
       "      <td>0.709006</td>\n",
       "      <td>0.022724</td>\n",
       "      <td>0.041098</td>\n",
       "      <td>0.090680</td>\n",
       "      <td>197.634442</td>\n",
       "      <td>20.336683</td>\n",
       "      <td>14.401794</td>\n",
       "      <td>audio/21_pos.wav</td>\n",
       "      <td>21</td>\n",
       "      <td>pos</td>\n",
       "    </tr>\n",
       "  </tbody>\n",
       "</table>\n",
       "<p>69 rows × 20 columns</p>\n",
       "</div>"
      ],
      "text/plain": [
       "    rms_mean   rms_std   rms_max   rms_min  localJitter  localabsoluteJitter  \\\n",
       "0   0.017931  0.019250  0.111144  0.000203     0.011060             0.000064   \n",
       "1   0.024871  0.032905  0.168227  0.000037     0.014610             0.000074   \n",
       "2   0.038053  0.038166  0.169753  0.000274     0.011936             0.000053   \n",
       "3   0.018055  0.025417  0.169625  0.000212     0.013949             0.000079   \n",
       "4   0.086125  0.077493  0.266395  0.000146     0.007797             0.000042   \n",
       "..       ...       ...       ...       ...          ...                  ...   \n",
       "64  0.093767  0.101875  0.450404  0.000025     0.012394             0.000059   \n",
       "65  0.025872  0.035865  0.222988  0.000027     0.014455             0.000072   \n",
       "66  0.007521  0.009095  0.048909  0.000004     0.007714             0.000041   \n",
       "67  0.022345  0.031470  0.201110  0.000220     0.014559             0.000080   \n",
       "68  0.130385  0.141813  0.460333  0.000255     0.008761             0.000045   \n",
       "\n",
       "    rapJitter  ppq5Jitter  ddpJitter  localShimmer  localdbShimmer  \\\n",
       "0    0.003465    0.005857   0.010395      0.099222        0.787973   \n",
       "1    0.004114    0.007507   0.012341      0.101817        0.754952   \n",
       "2    0.002706    0.005138   0.008119      0.106943        0.638403   \n",
       "3    0.003135    0.005664   0.009404      0.155064        0.852074   \n",
       "4    0.002580    0.004057   0.007741      0.077477        0.673770   \n",
       "..        ...         ...        ...           ...             ...   \n",
       "64   0.003351    0.005559   0.010053      0.105439        0.777676   \n",
       "65   0.004110    0.007466   0.012329      0.108382        0.768684   \n",
       "66   0.002184    0.003707   0.006551      0.110255        0.645221   \n",
       "67   0.003561    0.006202   0.010683      0.162524        0.815833   \n",
       "68   0.002545    0.004428   0.007635      0.064571        0.709006   \n",
       "\n",
       "    apq3Shimmer  apq5Shimmer  apq11Shimmer     f0_mean     f0_std        hnr  \\\n",
       "0      0.037504     0.067317      0.172779  176.649887  22.951265  11.798376   \n",
       "1      0.041237     0.071470      0.146125  201.147730  25.017070  11.505237   \n",
       "2      0.038309     0.066730      0.140863  227.516987  23.271600  14.403130   \n",
       "3      0.064805     0.111448      0.226401  182.849631  31.212020  10.530582   \n",
       "4      0.029258     0.053634      0.117042  190.461634  23.039585  13.209085   \n",
       "..          ...          ...           ...         ...        ...        ...   \n",
       "64     0.034824     0.063856      0.151712  211.911909  20.094876  12.022375   \n",
       "65     0.040372     0.070444      0.150119  204.992579  27.863604  11.687023   \n",
       "66     0.043651     0.066091      0.106690  192.226669  22.582565  10.004964   \n",
       "67     0.059204     0.109509      0.232931  187.722206  32.186628  10.857767   \n",
       "68     0.022724     0.041098      0.090680  197.634442  20.336683  14.401794   \n",
       "\n",
       "             filename  subject condition  \n",
       "0     audio/2_pos.wav        2       pos  \n",
       "1    audio/14_neg.wav       14       neg  \n",
       "2    audio/19_neg.wav       19       neg  \n",
       "3   audio/18_neut.wav       18      neut  \n",
       "4     audio/7_neg.wav        7       neg  \n",
       "..                ...      ...       ...  \n",
       "64   audio/3_neut.wav        3      neut  \n",
       "65   audio/14_pos.wav       14       pos  \n",
       "66   audio/8_neut.wav        8      neut  \n",
       "67   audio/18_neg.wav       18       neg  \n",
       "68   audio/21_pos.wav       21       pos  \n",
       "\n",
       "[69 rows x 20 columns]"
      ]
     },
     "execution_count": 3,
     "metadata": {},
     "output_type": "execute_result"
    }
   ],
   "source": [
    "df"
   ]
  },
  {
   "cell_type": "code",
   "execution_count": 5,
   "metadata": {},
   "outputs": [
    {
     "data": {
      "text/plain": [
       "rms_mean               0\n",
       "rms_std                0\n",
       "rms_max                0\n",
       "rms_min                0\n",
       "localJitter            0\n",
       "localabsoluteJitter    0\n",
       "rapJitter              0\n",
       "ppq5Jitter             0\n",
       "ddpJitter              0\n",
       "localShimmer           0\n",
       "localdbShimmer         0\n",
       "apq3Shimmer            0\n",
       "apq5Shimmer            0\n",
       "apq11Shimmer           0\n",
       "f0_mean                0\n",
       "f0_std                 0\n",
       "hnr                    0\n",
       "filename               0\n",
       "subject                0\n",
       "condition              0\n",
       "dtype: int64"
      ]
     },
     "execution_count": 5,
     "metadata": {},
     "output_type": "execute_result"
    }
   ],
   "source": [
    "df.isnull().sum()"
   ]
  },
  {
   "cell_type": "code",
   "execution_count": 6,
   "metadata": {},
   "outputs": [
    {
     "data": {
      "text/plain": [
       "condition\n",
       "neg     197.444540\n",
       "neut    197.256972\n",
       "pos     198.388218\n",
       "Name: f0_mean, dtype: float64"
      ]
     },
     "execution_count": 6,
     "metadata": {},
     "output_type": "execute_result"
    }
   ],
   "source": [
    "df['f0_mean'].groupby(df['condition']).mean()"
   ]
  },
  {
   "cell_type": "code",
   "execution_count": 7,
   "metadata": {
    "scrolled": true
   },
   "outputs": [],
   "source": [
    "art_mean = df[['f0_mean', 'hnr','rms_mean', 'condition']].groupby(df['condition']).mean()"
   ]
  },
  {
   "cell_type": "code",
   "execution_count": 8,
   "metadata": {},
   "outputs": [
    {
     "name": "stdout",
     "output_type": "stream",
     "text": [
      "| condition   |   f0_mean |     hnr |   rms_mean |\n",
      "|:------------|----------:|--------:|-----------:|\n",
      "| neg         |   197.445 | 11.6749 |  0.061282  |\n",
      "| neut        |   197.257 | 11.641  |  0.0588899 |\n",
      "| pos         |   198.388 | 11.8001 |  0.0590017 |\n"
     ]
    }
   ],
   "source": [
    "print(art_mean.to_markdown())"
   ]
  },
  {
   "cell_type": "code",
   "execution_count": 9,
   "metadata": {},
   "outputs": [],
   "source": [
    "art_median = df[['f0_mean', 'hnr','rms_mean', 'condition']].groupby(df['condition']).median()"
   ]
  },
  {
   "cell_type": "code",
   "execution_count": 10,
   "metadata": {},
   "outputs": [
    {
     "data": {
      "text/html": [
       "<div>\n",
       "<style scoped>\n",
       "    .dataframe tbody tr th:only-of-type {\n",
       "        vertical-align: middle;\n",
       "    }\n",
       "\n",
       "    .dataframe tbody tr th {\n",
       "        vertical-align: top;\n",
       "    }\n",
       "\n",
       "    .dataframe thead th {\n",
       "        text-align: right;\n",
       "    }\n",
       "</style>\n",
       "<table border=\"1\" class=\"dataframe\">\n",
       "  <thead>\n",
       "    <tr style=\"text-align: right;\">\n",
       "      <th></th>\n",
       "      <th>rms_mean</th>\n",
       "      <th>rms_std</th>\n",
       "      <th>rms_max</th>\n",
       "      <th>rms_min</th>\n",
       "      <th>localJitter</th>\n",
       "      <th>localabsoluteJitter</th>\n",
       "      <th>rapJitter</th>\n",
       "      <th>ppq5Jitter</th>\n",
       "      <th>ddpJitter</th>\n",
       "      <th>localShimmer</th>\n",
       "      <th>localdbShimmer</th>\n",
       "      <th>apq3Shimmer</th>\n",
       "      <th>apq5Shimmer</th>\n",
       "      <th>apq11Shimmer</th>\n",
       "      <th>f0_mean</th>\n",
       "      <th>f0_std</th>\n",
       "      <th>hnr</th>\n",
       "      <th>subject</th>\n",
       "    </tr>\n",
       "    <tr>\n",
       "      <th>condition</th>\n",
       "      <th></th>\n",
       "      <th></th>\n",
       "      <th></th>\n",
       "      <th></th>\n",
       "      <th></th>\n",
       "      <th></th>\n",
       "      <th></th>\n",
       "      <th></th>\n",
       "      <th></th>\n",
       "      <th></th>\n",
       "      <th></th>\n",
       "      <th></th>\n",
       "      <th></th>\n",
       "      <th></th>\n",
       "      <th></th>\n",
       "      <th></th>\n",
       "      <th></th>\n",
       "      <th></th>\n",
       "    </tr>\n",
       "  </thead>\n",
       "  <tbody>\n",
       "    <tr>\n",
       "      <th>neg</th>\n",
       "      <td>0.064600</td>\n",
       "      <td>0.077493</td>\n",
       "      <td>0.315176</td>\n",
       "      <td>0.000041</td>\n",
       "      <td>0.010397</td>\n",
       "      <td>0.000053</td>\n",
       "      <td>0.002789</td>\n",
       "      <td>0.004852</td>\n",
       "      <td>0.008368</td>\n",
       "      <td>0.101338</td>\n",
       "      <td>0.745808</td>\n",
       "      <td>0.036293</td>\n",
       "      <td>0.064180</td>\n",
       "      <td>0.141061</td>\n",
       "      <td>197.872192</td>\n",
       "      <td>25.017070</td>\n",
       "      <td>11.597605</td>\n",
       "      <td>12</td>\n",
       "    </tr>\n",
       "    <tr>\n",
       "      <th>neut</th>\n",
       "      <td>0.066898</td>\n",
       "      <td>0.072928</td>\n",
       "      <td>0.316067</td>\n",
       "      <td>0.000035</td>\n",
       "      <td>0.009760</td>\n",
       "      <td>0.000052</td>\n",
       "      <td>0.002746</td>\n",
       "      <td>0.004823</td>\n",
       "      <td>0.008238</td>\n",
       "      <td>0.104128</td>\n",
       "      <td>0.755104</td>\n",
       "      <td>0.036627</td>\n",
       "      <td>0.066091</td>\n",
       "      <td>0.140274</td>\n",
       "      <td>198.413973</td>\n",
       "      <td>24.557532</td>\n",
       "      <td>11.682766</td>\n",
       "      <td>12</td>\n",
       "    </tr>\n",
       "    <tr>\n",
       "      <th>pos</th>\n",
       "      <td>0.069010</td>\n",
       "      <td>0.078391</td>\n",
       "      <td>0.343143</td>\n",
       "      <td>0.000042</td>\n",
       "      <td>0.010575</td>\n",
       "      <td>0.000054</td>\n",
       "      <td>0.002644</td>\n",
       "      <td>0.004518</td>\n",
       "      <td>0.007933</td>\n",
       "      <td>0.098007</td>\n",
       "      <td>0.729713</td>\n",
       "      <td>0.037677</td>\n",
       "      <td>0.065061</td>\n",
       "      <td>0.149409</td>\n",
       "      <td>200.647060</td>\n",
       "      <td>25.221915</td>\n",
       "      <td>11.794855</td>\n",
       "      <td>12</td>\n",
       "    </tr>\n",
       "  </tbody>\n",
       "</table>\n",
       "</div>"
      ],
      "text/plain": [
       "           rms_mean   rms_std   rms_max   rms_min  localJitter  \\\n",
       "condition                                                        \n",
       "neg        0.064600  0.077493  0.315176  0.000041     0.010397   \n",
       "neut       0.066898  0.072928  0.316067  0.000035     0.009760   \n",
       "pos        0.069010  0.078391  0.343143  0.000042     0.010575   \n",
       "\n",
       "           localabsoluteJitter  rapJitter  ppq5Jitter  ddpJitter  \\\n",
       "condition                                                          \n",
       "neg                   0.000053   0.002789    0.004852   0.008368   \n",
       "neut                  0.000052   0.002746    0.004823   0.008238   \n",
       "pos                   0.000054   0.002644    0.004518   0.007933   \n",
       "\n",
       "           localShimmer  localdbShimmer  apq3Shimmer  apq5Shimmer  \\\n",
       "condition                                                           \n",
       "neg            0.101338        0.745808     0.036293     0.064180   \n",
       "neut           0.104128        0.755104     0.036627     0.066091   \n",
       "pos            0.098007        0.729713     0.037677     0.065061   \n",
       "\n",
       "           apq11Shimmer     f0_mean     f0_std        hnr  subject  \n",
       "condition                                                           \n",
       "neg            0.141061  197.872192  25.017070  11.597605       12  \n",
       "neut           0.140274  198.413973  24.557532  11.682766       12  \n",
       "pos            0.149409  200.647060  25.221915  11.794855       12  "
      ]
     },
     "execution_count": 10,
     "metadata": {},
     "output_type": "execute_result"
    }
   ],
   "source": [
    "df.groupby(df['condition']).median()"
   ]
  },
  {
   "cell_type": "code",
   "execution_count": 11,
   "metadata": {},
   "outputs": [
    {
     "data": {
      "text/html": [
       "<div>\n",
       "<style scoped>\n",
       "    .dataframe tbody tr th:only-of-type {\n",
       "        vertical-align: middle;\n",
       "    }\n",
       "\n",
       "    .dataframe tbody tr th {\n",
       "        vertical-align: top;\n",
       "    }\n",
       "\n",
       "    .dataframe thead th {\n",
       "        text-align: right;\n",
       "    }\n",
       "</style>\n",
       "<table border=\"1\" class=\"dataframe\">\n",
       "  <thead>\n",
       "    <tr style=\"text-align: right;\">\n",
       "      <th></th>\n",
       "      <th>Source</th>\n",
       "      <th>ddof1</th>\n",
       "      <th>ddof2</th>\n",
       "      <th>F</th>\n",
       "      <th>p-unc</th>\n",
       "      <th>np2</th>\n",
       "      <th>eps</th>\n",
       "    </tr>\n",
       "  </thead>\n",
       "  <tbody>\n",
       "    <tr>\n",
       "      <th>0</th>\n",
       "      <td>condition</td>\n",
       "      <td>2</td>\n",
       "      <td>44</td>\n",
       "      <td>0.735728</td>\n",
       "      <td>0.484958</td>\n",
       "      <td>0.03236</td>\n",
       "      <td>0.851863</td>\n",
       "    </tr>\n",
       "  </tbody>\n",
       "</table>\n",
       "</div>"
      ],
      "text/plain": [
       "      Source  ddof1  ddof2         F     p-unc      np2       eps\n",
       "0  condition      2     44  0.735728  0.484958  0.03236  0.851863"
      ]
     },
     "execution_count": 11,
     "metadata": {},
     "output_type": "execute_result"
    }
   ],
   "source": [
    "pg.rm_anova(data=df, dv='f0_mean', within='condition', subject='subject')"
   ]
  },
  {
   "cell_type": "code",
   "execution_count": 58,
   "metadata": {},
   "outputs": [
    {
     "name": "stderr",
     "output_type": "stream",
     "text": [
      "/home/t/miniconda3/envs/projbad/lib/python3.8/site-packages/pingouin/distribution.py:950: RuntimeWarning: divide by zero encountered in double_scalars\n",
      "  W = np.product(eig) / (eig.sum() / d)**d\n"
     ]
    },
    {
     "data": {
      "text/html": [
       "<div>\n",
       "<style scoped>\n",
       "    .dataframe tbody tr th:only-of-type {\n",
       "        vertical-align: middle;\n",
       "    }\n",
       "\n",
       "    .dataframe tbody tr th {\n",
       "        vertical-align: top;\n",
       "    }\n",
       "\n",
       "    .dataframe thead th {\n",
       "        text-align: right;\n",
       "    }\n",
       "</style>\n",
       "<table border=\"1\" class=\"dataframe\">\n",
       "  <thead>\n",
       "    <tr style=\"text-align: right;\">\n",
       "      <th></th>\n",
       "      <th>Source</th>\n",
       "      <th>ddof1</th>\n",
       "      <th>ddof2</th>\n",
       "      <th>F</th>\n",
       "      <th>p-unc</th>\n",
       "      <th>p-GG-corr</th>\n",
       "      <th>np2</th>\n",
       "      <th>eps</th>\n",
       "      <th>sphericity</th>\n",
       "      <th>W-spher</th>\n",
       "      <th>p-spher</th>\n",
       "    </tr>\n",
       "  </thead>\n",
       "  <tbody>\n",
       "    <tr>\n",
       "      <th>0</th>\n",
       "      <td>condition</td>\n",
       "      <td>2</td>\n",
       "      <td>44</td>\n",
       "      <td>1.882401</td>\n",
       "      <td>0.164279</td>\n",
       "      <td>0.167238</td>\n",
       "      <td>0.07882</td>\n",
       "      <td>0.937139</td>\n",
       "      <td>True</td>\n",
       "      <td>inf</td>\n",
       "      <td>1.0</td>\n",
       "    </tr>\n",
       "  </tbody>\n",
       "</table>\n",
       "</div>"
      ],
      "text/plain": [
       "      Source  ddof1  ddof2         F     p-unc  p-GG-corr      np2       eps  \\\n",
       "0  condition      2     44  1.882401  0.164279   0.167238  0.07882  0.937139   \n",
       "\n",
       "   sphericity  W-spher  p-spher  \n",
       "0        True      inf      1.0  "
      ]
     },
     "execution_count": 58,
     "metadata": {},
     "output_type": "execute_result"
    }
   ],
   "source": [
    "pg.rm_anova(data=df, dv='rms_mean', within='condition', subject='subject', correction=True)"
   ]
  },
  {
   "cell_type": "code",
   "execution_count": 59,
   "metadata": {},
   "outputs": [
    {
     "data": {
      "text/html": [
       "<div>\n",
       "<style scoped>\n",
       "    .dataframe tbody tr th:only-of-type {\n",
       "        vertical-align: middle;\n",
       "    }\n",
       "\n",
       "    .dataframe tbody tr th {\n",
       "        vertical-align: top;\n",
       "    }\n",
       "\n",
       "    .dataframe thead th {\n",
       "        text-align: right;\n",
       "    }\n",
       "</style>\n",
       "<table border=\"1\" class=\"dataframe\">\n",
       "  <thead>\n",
       "    <tr style=\"text-align: right;\">\n",
       "      <th></th>\n",
       "      <th>Source</th>\n",
       "      <th>ddof1</th>\n",
       "      <th>ddof2</th>\n",
       "      <th>F</th>\n",
       "      <th>p-unc</th>\n",
       "      <th>p-GG-corr</th>\n",
       "      <th>np2</th>\n",
       "      <th>eps</th>\n",
       "      <th>sphericity</th>\n",
       "      <th>W-spher</th>\n",
       "      <th>p-spher</th>\n",
       "    </tr>\n",
       "  </thead>\n",
       "  <tbody>\n",
       "    <tr>\n",
       "      <th>0</th>\n",
       "      <td>condition</td>\n",
       "      <td>2</td>\n",
       "      <td>44</td>\n",
       "      <td>0.747813</td>\n",
       "      <td>0.479321</td>\n",
       "      <td>0.47809</td>\n",
       "      <td>0.032874</td>\n",
       "      <td>0.989676</td>\n",
       "      <td>True</td>\n",
       "      <td>0.989569</td>\n",
       "      <td>0.89574</td>\n",
       "    </tr>\n",
       "  </tbody>\n",
       "</table>\n",
       "</div>"
      ],
      "text/plain": [
       "      Source  ddof1  ddof2         F     p-unc  p-GG-corr       np2       eps  \\\n",
       "0  condition      2     44  0.747813  0.479321    0.47809  0.032874  0.989676   \n",
       "\n",
       "   sphericity   W-spher  p-spher  \n",
       "0        True  0.989569  0.89574  "
      ]
     },
     "execution_count": 59,
     "metadata": {},
     "output_type": "execute_result"
    }
   ],
   "source": [
    "pg.rm_anova(data=df, dv='hnr', within='condition', subject='subject', correction=True)"
   ]
  },
  {
   "cell_type": "code",
   "execution_count": 13,
   "metadata": {},
   "outputs": [
    {
     "data": {
      "text/plain": [
       "<seaborn.axisgrid.FacetGrid at 0x7f962e917e50>"
      ]
     },
     "execution_count": 13,
     "metadata": {},
     "output_type": "execute_result"
    },
    {
     "data": {
      "image/png": "[encoded data removed]",
      "text/plain": [
       "<Figure size 360x360 with 1 Axes>"
      ]
     },
     "metadata": {
      "needs_background": "light"
     },
     "output_type": "display_data"
    }
   ],
   "source": [
    "import seaborn as sns\n",
    "rms_plot = sns.catplot(x='condition', y='rms_mean', data=df, kind='box')\n",
    "rms_plot.set(xlabel=\"Warunek eskperymentalny\", ylabel = \"Wartość średnia RMS\")"
   ]
  },
  {
   "cell_type": "code",
   "execution_count": 18,
   "metadata": {},
   "outputs": [
    {
     "data": {
      "text/plain": [
       "<seaborn.axisgrid.FacetGrid at 0x7f962ebaa250>"
      ]
     },
     "execution_count": 18,
     "metadata": {},
     "output_type": "execute_result"
    },
    {
     "data": {
      "image/png": "[encoded data removed]",
      "text/plain": [
       "<Figure size 360x360 with 1 Axes>"
      ]
     },
     "metadata": {
      "needs_background": "light"
     },
     "output_type": "display_data"
    }
   ],
   "source": [
    "hnr_plot = sns.catplot(x='condition', y='hnr', data=df, kind='box')\n",
    "hnr_plot.set(xlabel=\"Warunek eskperymentalny\", ylabel = \"Wartość HNR\")"
   ]
  },
  {
   "cell_type": "code",
   "execution_count": 22,
   "metadata": {},
   "outputs": [
    {
     "data": {
      "text/plain": [
       "<seaborn.axisgrid.FacetGrid at 0x7f962e7b9040>"
      ]
     },
     "execution_count": 22,
     "metadata": {},
     "output_type": "execute_result"
    },
    {
     "data": {
      "image/png": "[encoded data removed]",
      "text/plain": [
       "<Figure size 360x360 with 1 Axes>"
      ]
     },
     "metadata": {
      "needs_background": "light"
     },
     "output_type": "display_data"
    }
   ],
   "source": [
    "f0_mean_plot = sns.catplot(x='condition', y='f0_mean', data=df, kind='box')\n",
    "f0_mean_plot.set(xlabel=\"Warunek eskperymentalny\", ylabel = \"Wartość częstotliwości podstawowej\")"
   ]
  },
  {
   "cell_type": "code",
   "execution_count": 23,
   "metadata": {},
   "outputs": [],
   "source": [
    "f0_mean_plot.savefig(\"f0_mean_boxplot.png\")"
   ]
  }
 ],
 "metadata": {
  "kernelspec": {
   "display_name": "Python 3",
   "language": "python",
   "name": "python3"
  },
  "language_info": {
   "codemirror_mode": {
    "name": "ipython",
    "version": 3
   },
   "file_extension": ".py",
   "mimetype": "text/x-python",
   "name": "python",
   "nbconvert_exporter": "python",
   "pygments_lexer": "ipython3",
   "version": "3.7.4"
  }
 },
 "nbformat": 4,
 "nbformat_minor": 4
}
